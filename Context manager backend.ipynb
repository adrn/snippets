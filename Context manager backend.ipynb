{
 "metadata": {
  "name": "",
  "signature": "sha256:ce63554325f613c7e00c8ef65df578d00ed4f69d7843a46c21b24b256179b000"
 },
 "nbformat": 3,
 "nbformat_minor": 0,
 "worksheets": [
  {
   "cells": [
    {
     "cell_type": "code",
     "collapsed": false,
     "input": [
      "import numpy as np\n",
      "from IPython.core.interactiveshell import InteractiveShell\n",
      "from IPython.core.pylabtools import backend2gui"
     ],
     "language": "python",
     "metadata": {},
     "outputs": [],
     "prompt_number": 1
    },
    {
     "cell_type": "code",
     "collapsed": false,
     "input": [
      "class use_backend(object):\n",
      "\n",
      "    def __init__(self, backend):\n",
      "        from matplotlib import pyplot\n",
      "        self.shell = InteractiveShell.instance()\n",
      "        self.old_backend = backend2gui[str(pyplot.get_backend())]\n",
      "        self.new_backend = backend\n",
      "\n",
      "    def __enter__(self):\n",
      "        gui, backend = self.shell.enable_matplotlib(self.new_backend)\n",
      "\n",
      "    def __exit__(self, type, value, tb):\n",
      "        gui, backend = self.shell.enable_matplotlib(self.old_backend)\n"
     ],
     "language": "python",
     "metadata": {},
     "outputs": [],
     "prompt_number": 2
    },
    {
     "cell_type": "code",
     "collapsed": false,
     "input": [
      "a = np.random.uniform(size=100)\n",
      "b = np.random.uniform(size=100)"
     ],
     "language": "python",
     "metadata": {},
     "outputs": [],
     "prompt_number": 3
    },
    {
     "cell_type": "code",
     "collapsed": false,
     "input": [
      "import matplotlib.pyplot as plt\n",
      "\n",
      "with use_backend(\"inline\"):\n",
      "    print(\"Backend:\", plt.get_backend())\n",
      "    plt.plot(a, b, linestyle='none')\n",
      "    plt.show()"
     ],
     "language": "python",
     "metadata": {},
     "outputs": [
      {
       "output_type": "stream",
       "stream": "stdout",
       "text": [
        "('Backend:', 'module://IPython.kernel.zmq.pylab.backend_inline')\n"
       ]
      },
      {
       "metadata": {},
       "output_type": "display_data",
       "png": "[encoded data removed]",
       "text": [
        "<matplotlib.figure.Figure at 0x10928cb90>"
       ]
      }
     ],
     "prompt_number": 4
    },
    {
     "cell_type": "code",
     "collapsed": false,
     "input": [
      "print(\"Backend:\", plt.get_backend())"
     ],
     "language": "python",
     "metadata": {},
     "outputs": []
    },
    {
     "cell_type": "code",
     "collapsed": false,
     "input": [],
     "language": "python",
     "metadata": {},
     "outputs": []
    }
   ],
   "metadata": {}
  }
 ]
}