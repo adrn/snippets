{
 "metadata": {
  "name": "",
  "signature": "sha256:79075e66a16b92e140b243488380a2afbd4e21931e48710690f4f7174674ea60"
 },
 "nbformat": 3,
 "nbformat_minor": 0,
 "worksheets": [
  {
   "cells": [
    {
     "cell_type": "code",
     "collapsed": false,
     "input": [
      "import matplotlib.pyplot as plt\n",
      "import numpy as np\n",
      "import scipy.optimize as so\n",
      "import streamteam.potential as sp\n",
      "%matplotlib inline"
     ],
     "language": "python",
     "metadata": {},
     "outputs": [],
     "prompt_number": 1
    },
    {
     "cell_type": "code",
     "collapsed": false,
     "input": [
      "potential = sp.IsochronePotential(m=1E11, b=2., usys=(u.kpc,u.Myr,u.Msun))\n",
      "true_w = np.array([5.,0.,1.,0.,0.15,0.])\n",
      "true_J,true_theta = potential.action_angle(true_w[:3], true_w[3:])\n",
      "print true_J, true_theta"
     ],
     "language": "python",
     "metadata": {},
     "outputs": [
      {
       "output_type": "stream",
       "stream": "stdout",
       "text": [
        "[[ 0.03316338  0.75        0.01485293]] [[ 3.14159265  0.          1.57079633]]\n"
       ]
      },
      {
       "output_type": "stream",
       "stream": "stderr",
       "text": [
        "/Users/adrian/anaconda/lib/python2.7/site-packages/streamteam/potential/builtin.py:294: RuntimeWarning: invalid value encountered in arcsin\n",
        "  u = np.arcsin(sinu)\n"
       ]
      }
     ],
     "prompt_number": 2
    },
    {
     "cell_type": "code",
     "collapsed": false,
     "input": [
      "# function to minimize to get w = (x,v)\n",
      "def f(w):\n",
      "    try:\n",
      "        J_prime, theta_prime = potential.action_angle(w[:3],w[3:])\n",
      "    except ValueError: # unbound\n",
      "        return np.zeros_like(w) + 1e6\n",
      "    return np.squeeze(np.hstack((true_J, true_theta)) - np.hstack((J_prime, theta_prime)))"
     ],
     "language": "python",
     "metadata": {},
     "outputs": [],
     "prompt_number": 3
    },
    {
     "cell_type": "code",
     "collapsed": false,
     "input": [
      "# try 100 different initial guesses\n",
      "root_w = []\n",
      "for i in range(100):\n",
      "    w0 = np.append(np.random.random(size=3)*10, np.random.random(size=3)/10.)\n",
      "    s = so.root(f, w0)\n",
      "    root_w.append(s.x)\n",
      "root_w = np.array(root_w)"
     ],
     "language": "python",
     "metadata": {},
     "outputs": [
      {
       "output_type": "stream",
       "stream": "stderr",
       "text": [
        "/Users/adrian/anaconda/lib/python2.7/site-packages/scipy/optimize/minpack.py:237: RuntimeWarning: The iteration is not making good progress, as measured by the \n",
        "  improvement from the last ten iterations.\n",
        "  warnings.warn(msg, RuntimeWarning)\n",
        "/Users/adrian/anaconda/lib/python2.7/site-packages/scipy/optimize/minpack.py:237: RuntimeWarning: The iteration is not making good progress, as measured by the \n",
        "  improvement from the last five Jacobian evaluations.\n",
        "  warnings.warn(msg, RuntimeWarning)\n"
       ]
      }
     ],
     "prompt_number": 4
    },
    {
     "cell_type": "code",
     "collapsed": false,
     "input": [
      "print np.median(root_w, axis=0)\n",
      "\n",
      "fig,axes = plt.subplots(1,3,figsize=(12,5))\n",
      "for i in range(3):\n",
      "    axes[i].hist(root_w[:,i], bins=25)\n",
      "    axes[i].axvline(true_w[i], color='g', lw=2.)"
     ],
     "language": "python",
     "metadata": {},
     "outputs": [
      {
       "output_type": "stream",
       "stream": "stdout",
       "text": [
        "[  5.00000000e+00   8.08874527e-07   1.00000000e+00  -1.20152278e-08\n",
        "   1.50000000e-01   2.46931197e-11]\n"
       ]
      },
      {
       "metadata": {},
       "output_type": "display_data",
       "png": "[encoded data removed]",
       "text": [
        "<matplotlib.figure.Figure at 0x10a290790>"
       ]
      }
     ],
     "prompt_number": 5
    },
    {
     "cell_type": "code",
     "collapsed": false,
     "input": [],
     "language": "python",
     "metadata": {},
     "outputs": [],
     "prompt_number": 5
    }
   ],
   "metadata": {}
  }
 ]
}