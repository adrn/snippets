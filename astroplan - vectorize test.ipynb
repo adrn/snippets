{
 "cells": [
  {
   "cell_type": "code",
   "execution_count": 1,
   "metadata": {
    "collapsed": false
   },
   "outputs": [
    {
     "name": "stdout",
     "output_type": "stream",
     "text": [
      "1.1.dev13135\n"
     ]
    },
    {
     "name": "stderr",
     "output_type": "stream",
     "text": [
      "/Users/adrian/projects/astropy/build/lib.macosx-10.5-x86_64-2.7/astropy/utils/introspection.py:143: UserWarning: Module astropy was already imported from /Users/adrian/projects/astropy/build/lib.macosx-10.5-x86_64-2.7/astropy/__init__.pyc, but /Users/adrian/anaconda/lib/python2.7/site-packages is being added to sys.path\n",
      "  from pkg_resources import parse_version\n"
     ]
    }
   ],
   "source": [
    "import os\n",
    "import sys\n",
    "\n",
    "astropy_path = \"/Users/adrian/projects/astropy/build/lib.macosx-10.5-x86_64-2.7/\"\n",
    "if astropy_path not in sys.path:\n",
    "    sys.path.insert(0,astropy_path)\n",
    "\n",
    "# Third-party\n",
    "import astropy\n",
    "print(astropy.__version__)\n",
    "import astropy.coordinates as coord\n",
    "import astropy.units as u\n",
    "import astropy.time as atime\n",
    "\n",
    "astroplan_path = \"/Users/adrian/projects/astroplan/\"\n",
    "if astroplan_path not in sys.path:\n",
    "    sys.path.append(astroplan_path)\n",
    "import astroplan"
   ]
  },
  {
   "cell_type": "code",
   "execution_count": 2,
   "metadata": {
    "collapsed": false
   },
   "outputs": [],
   "source": [
    "vega = coord.SkyCoord.from_name('Vega')\n",
    "capella = coord.SkyCoord.from_name('Capella')\n",
    "sirius = coord.SkyCoord.from_name('Sirius')\n",
    "list_of_targets = [vega, capella, sirius]"
   ]
  },
  {
   "cell_type": "code",
   "execution_count": 3,
   "metadata": {
    "collapsed": false
   },
   "outputs": [],
   "source": [
    "datetime = atime.Time('2015-07-28T00:00:00', format='isot')\n",
    "obs = astroplan.Observer(location=coord.EarthLocation(lat=41*u.deg, lon=-106*u.deg))"
   ]
  },
  {
   "cell_type": "code",
   "execution_count": 4,
   "metadata": {
    "collapsed": false
   },
   "outputs": [
    {
     "name": "stdout",
     "output_type": "stream",
     "text": [
      "1 loops, best of 3: 587 ms per loop\n"
     ]
    }
   ],
   "source": [
    "%%timeit\n",
    "obs.calc_rise(datetime, list_of_targets[0])\n",
    "obs.calc_rise(datetime, list_of_targets[1])\n",
    "obs.calc_rise(datetime, list_of_targets[2])"
   ]
  },
  {
   "cell_type": "code",
   "execution_count": 6,
   "metadata": {
    "collapsed": false
   },
   "outputs": [
    {
     "name": "stdout",
     "output_type": "stream",
     "text": [
      "1 loops, best of 3: 686 ms per loop\n"
     ]
    }
   ],
   "source": [
    "%%timeit\n",
    "obs.calc_rise(datetime, list_of_targets)"
   ]
  },
  {
   "cell_type": "code",
   "execution_count": null,
   "metadata": {
    "collapsed": true
   },
   "outputs": [],
   "source": []
  }
 ],
 "metadata": {
  "kernelspec": {
   "display_name": "Python 2",
   "language": "python",
   "name": "python2"
  },
  "language_info": {
   "codemirror_mode": {
    "name": "ipython",
    "version": 2
   },
   "file_extension": ".py",
   "mimetype": "text/x-python",
   "name": "python",
   "nbconvert_exporter": "python",
   "pygments_lexer": "ipython2",
   "version": "2.7.10"
  }
 },
 "nbformat": 4,
 "nbformat_minor": 0
}
