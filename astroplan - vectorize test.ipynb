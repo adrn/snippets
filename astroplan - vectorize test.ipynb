{
 "cells": [
  {
   "cell_type": "code",
   "execution_count": 69,
   "metadata": {
    "collapsed": true
   },
   "outputs": [],
   "source": [
    "import os\n",
    "import sys\n",
    "\n",
    "# Third-party\n",
    "import astropy.coordinates as coord\n",
    "import astropy.units as u\n",
    "import astropy.time as atime\n",
    "\n",
    "astroplan_path = \"/Users/adrian/projects/astroplan/\"\n",
    "if astroplan_path not in sys.path:\n",
    "    sys.path.append(astroplan_path)\n",
    "import astroplan"
   ]
  },
  {
   "cell_type": "code",
   "execution_count": 59,
   "metadata": {
    "collapsed": false
   },
   "outputs": [],
   "source": [
    "vega = coord.SkyCoord.from_name('Vega')\n",
    "capella = coord.SkyCoord.from_name('Capella')\n",
    "sirius = coord.SkyCoord.from_name('Sirius')\n",
    "list_of_targets = [vega, capella, sirius]"
   ]
  },
  {
   "cell_type": "code",
   "execution_count": 50,
   "metadata": {
    "collapsed": false
   },
   "outputs": [],
   "source": [
    "datetime = atime.Time('2015-07-28T00:00:00', format='isot')\n",
    "obs = astroplan.Observer(location=coord.EarthLocation(lat=41*u.deg, lon=-106*u.deg))"
   ]
  },
  {
   "cell_type": "code",
   "execution_count": 67,
   "metadata": {
    "collapsed": false
   },
   "outputs": [
    {
     "name": "stdout",
     "output_type": "stream",
     "text": [
      "1 loops, best of 3: 597 ms per loop\n"
     ]
    }
   ],
   "source": [
    "%%timeit\n",
    "obs.calc_rise(datetime, list_of_targets[0])\n",
    "obs.calc_rise(datetime, list_of_targets[1])\n",
    "obs.calc_rise(datetime, list_of_targets[2])"
   ]
  },
  {
   "cell_type": "code",
   "execution_count": 68,
   "metadata": {
    "collapsed": false
   },
   "outputs": [
    {
     "name": "stdout",
     "output_type": "stream",
     "text": [
      "45.2836670876\n"
     ]
    }
   ],
   "source": [
    "import time as time\n",
    "t1 = time.time()\n",
    "obs.calc_rise(datetime, list_of_targets)\n",
    "print(time.time() - t1)"
   ]
  }
 ],
 "metadata": {
  "kernelspec": {
   "display_name": "Python 2",
   "language": "python",
   "name": "python2"
  },
  "language_info": {
   "codemirror_mode": {
    "name": "ipython",
    "version": 2
   },
   "file_extension": ".py",
   "mimetype": "text/x-python",
   "name": "python",
   "nbconvert_exporter": "python",
   "pygments_lexer": "ipython2",
   "version": "2.7.10"
  }
 },
 "nbformat": 4,
 "nbformat_minor": 0
}
