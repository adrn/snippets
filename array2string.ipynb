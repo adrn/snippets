{
 "metadata": {
  "name": "",
  "signature": "sha256:a48287a669b01e87429ff7a85dea2e87dfa6da3fdeeec5dfd677bfef39f46fac"
 },
 "nbformat": 3,
 "nbformat_minor": 0,
 "worksheets": [
  {
   "cells": [
    {
     "cell_type": "code",
     "collapsed": false,
     "input": [
      "import numpy as np\n",
      "import matplotlib.pyplot as plt\n",
      "%matplotlib inline"
     ],
     "language": "python",
     "metadata": {},
     "outputs": [],
     "prompt_number": 1
    },
    {
     "cell_type": "code",
     "collapsed": false,
     "input": [
      "arr = np.array([(1.10000000000003,2.1)], dtype=[('x','<f8'),('y','<f8')])\n",
      "arr2 = np.array([(1.10000000000003,2.1),(4,5)], dtype=[('x','<f8'),('y','<f8')])"
     ],
     "language": "python",
     "metadata": {},
     "outputs": [],
     "prompt_number": 17
    },
    {
     "cell_type": "code",
     "collapsed": false,
     "input": [
      "np.array2string(arr)"
     ],
     "language": "python",
     "metadata": {},
     "outputs": [
      {
       "metadata": {},
       "output_type": "pyout",
       "prompt_number": 54,
       "text": [
        "'[(1.10000000000003, 2.1)]'"
       ]
      }
     ],
     "prompt_number": 54
    },
    {
     "cell_type": "code",
     "collapsed": false,
     "input": [
      "np.array2string(arr2)"
     ],
     "language": "python",
     "metadata": {},
     "outputs": [
      {
       "metadata": {},
       "output_type": "pyout",
       "prompt_number": 55,
       "text": [
        "'[(1.10000000000003, 2.1) (4.0, 5.0)]'"
       ]
      }
     ],
     "prompt_number": 55
    },
    {
     "cell_type": "code",
     "collapsed": false,
     "input": [
      "np.array2string(arr, formatter={'numpystr':lambda x: np.array2string(x['x']) + ','+ np.array2string(x['y'])})"
     ],
     "language": "python",
     "metadata": {},
     "outputs": [
      {
       "metadata": {},
       "output_type": "pyout",
       "prompt_number": 56,
       "text": [
        "'[1.10000000000003,2.1]'"
       ]
      }
     ],
     "prompt_number": 56
    },
    {
     "cell_type": "code",
     "collapsed": false,
     "input": [
      "np.array2string(arr2, formatter={'numpystr':lambda x: np.array2string(x['x']) + ','+ np.array2string(x['y'])})"
     ],
     "language": "python",
     "metadata": {},
     "outputs": [
      {
       "metadata": {},
       "output_type": "pyout",
       "prompt_number": 57,
       "text": [
        "'[1.10000000000003,2.1 4.0,5.0]'"
       ]
      }
     ],
     "prompt_number": 57
    },
    {
     "cell_type": "code",
     "collapsed": false,
     "input": [
      "np.array2string(arr, formatter={'numpystr':lambda x: np.array2string(x['x']) + ','+ np.array2string(x['y'])},\n",
      "                style=lambda x: x + \"test\")"
     ],
     "language": "python",
     "metadata": {},
     "outputs": [
      {
       "metadata": {},
       "output_type": "pyout",
       "prompt_number": 58,
       "text": [
        "'[1.10000000000003,2.1]'"
       ]
      }
     ],
     "prompt_number": 58
    },
    {
     "cell_type": "code",
     "collapsed": false,
     "input": [
      "np.array2string(arr2, formatter={'numpystr':lambda x: np.array2string(x['x']) + ','+ np.array2string(x['y'])},\n",
      "                style=lambda x: x + \"test\")"
     ],
     "language": "python",
     "metadata": {},
     "outputs": [
      {
       "metadata": {},
       "output_type": "pyout",
       "prompt_number": 59,
       "text": [
        "'[1.10000000000003,2.1 4.0,5.0]'"
       ]
      }
     ],
     "prompt_number": 59
    }
   ],
   "metadata": {}
  }
 ]
}