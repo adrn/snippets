{
 "metadata": {
  "name": "",
  "signature": "sha256:d73c54fc154fce778b529aed24479557fe5131abf0fa692b86df7865154c3c6a"
 },
 "nbformat": 3,
 "nbformat_minor": 0,
 "worksheets": [
  {
   "cells": [
    {
     "cell_type": "code",
     "collapsed": false,
     "input": [
      "import astropy.coordinates as coord\n",
      "from astropy.coordinates.angles import rotation_matrix\n",
      "import astropy.units as u\n",
      "import matplotlib.pyplot as plt\n",
      "%matplotlib inline\n",
      "import numpy as np\n",
      "from scipy.optimize import minimize"
     ],
     "language": "python",
     "metadata": {},
     "outputs": [],
     "prompt_number": 40
    },
    {
     "cell_type": "code",
     "collapsed": false,
     "input": [
      "galcen_ra = 266.4051\n",
      "galcen_dec = -28.936175\n",
      "galcen_distance = 8.3*u.kpc\n",
      "z_sun = 27*u.pc"
     ],
     "language": "python",
     "metadata": {},
     "outputs": [],
     "prompt_number": 120
    },
    {
     "cell_type": "code",
     "collapsed": false,
     "input": [
      "# generate points in Galactic coordinates\n",
      "g = coord.Galactic(l=0.*u.deg, b=np.linspace(-90,90,1000)*u.deg)\n",
      "icrs_pts = g.transform_to(coord.ICRS)\n",
      "\n",
      "def find_roll(roll_angle):\n",
      "    # define rotation matrix to align x(ICRS) with the vector to the Galactic center\n",
      "    mat1 = rotation_matrix(90 - galcen_dec, 'y')\n",
      "    mat2 = rotation_matrix(galcen_ra, 'z')\n",
      "    R1 = mat1 * mat2\n",
      "\n",
      "    # flip coordinates because rotation above is valid for NGP\n",
      "    mat1 = rotation_matrix(-90.*u.degree, 'y')\n",
      "    mat2 = rotation_matrix(-90.*u.degree, 'z')\n",
      "    R2 = mat1 * mat2\n",
      "    \n",
      "    # extra roll to align x-z plane with Galactic\n",
      "    R3 = rotation_matrix(roll_angle*u.degree, 'x')\n",
      "    \n",
      "    R = R3*R2*R1\n",
      "    \n",
      "    xyz = R.dot(icrs_pts.cartesian.xyz)\n",
      "    \n",
      "    return np.sum(xyz[1]**2)"
     ],
     "language": "python",
     "metadata": {},
     "outputs": [],
     "prompt_number": 121
    },
    {
     "cell_type": "code",
     "collapsed": false,
     "input": [
      "res = minimize(find_roll, 100., bounds=[(0,180)], tol=1E-10)\n",
      "roll_angle = res.x[0]"
     ],
     "language": "python",
     "metadata": {},
     "outputs": [],
     "prompt_number": 122
    },
    {
     "cell_type": "code",
     "collapsed": false,
     "input": [
      "angs = np.linspace(0,180,100)\n",
      "plt.plot(angs, [find_roll(x) for x in angs])\n",
      "plt.axvline(roll_angle)"
     ],
     "language": "python",
     "metadata": {},
     "outputs": [
      {
       "metadata": {},
       "output_type": "pyout",
       "prompt_number": 123,
       "text": [
        "<matplotlib.lines.Line2D at 0x10bbf2290>"
       ]
      },
      {
       "metadata": {},
       "output_type": "display_data",
       "png": "[encoded data removed]",
       "text": [
        "<matplotlib.figure.Figure at 0x10bbf2b10>"
       ]
      }
     ],
     "prompt_number": 123
    },
    {
     "cell_type": "code",
     "collapsed": false,
     "input": [
      "def do_transform_roll(icrs_coord):\n",
      "    mat1 = rotation_matrix(90 - galcen_dec, 'y')\n",
      "    mat2 = rotation_matrix(galcen_ra, 'z')\n",
      "    R1 = mat1 * mat2\n",
      "\n",
      "    # flip coordinates because rotation above is valid for NGP\n",
      "    mat1 = rotation_matrix(-90.*u.degree, 'y')\n",
      "    mat2 = rotation_matrix(-90.*u.degree, 'z')\n",
      "    R2 = mat1 * mat2\n",
      "    \n",
      "    # extra roll to align x-z plane with Galactic\n",
      "    R3 = rotation_matrix(roll_angle*u.degree, 'x')\n",
      "    \n",
      "    R = R3*R2*R1\n",
      "    xyz = R.dot(icrs_coord.cartesian.xyz)\n",
      "\n",
      "    # translate by Sun-Galactic center distance along new x axis\n",
      "    xyz[0] = xyz[0] - galcen_distance\n",
      "    \n",
      "    # rotate about y' to account for tilt due to Sun's height above the plane\n",
      "    R = rotation_matrix(-np.arcsin(z_sun / galcen_distance), 'y')\n",
      "    xyz = R.dot(xyz)\n",
      "    \n",
      "    representation = coord.CartesianRepresentation(xyz)\n",
      "    # return galactocentric_frame.realize_frame(representation)\n",
      "    return representation"
     ],
     "language": "python",
     "metadata": {},
     "outputs": [],
     "prompt_number": 124
    },
    {
     "cell_type": "code",
     "collapsed": false,
     "input": [
      "# galactic center\n",
      "icrs_coord = coord.ICRS(ra=266.4051*u.degree, dec=-28.936175*u.degree, distance=0.*u.kpc)\n",
      "do_transform_roll(icrs_coord)"
     ],
     "language": "python",
     "metadata": {},
     "outputs": [
      {
       "output_type": "stream",
       "stream": "stderr",
       "text": [
        "-c:21: RuntimeWarning: invalid value encountered in arcsin\n"
       ]
      },
      {
       "metadata": {},
       "output_type": "pyout",
       "prompt_number": 125,
       "text": [
        "<CartesianRepresentation x=-8.29995608422 kpc, y=0.0 kpc, z=0.027 kpc>"
       ]
      }
     ],
     "prompt_number": 125
    },
    {
     "cell_type": "code",
     "collapsed": false,
     "input": [
      "fig,axes = plt.subplots(1,3,figsize=(15,5),sharex=True,sharey=True)\n",
      "\n",
      "# test for Galactic x-z plane\n",
      "for lbl,fac in zip(['b<0','b>0'],[-1.,1.]):\n",
      "    l = np.append(np.zeros(100), np.zeros(100)+180.)\n",
      "    b = fac*np.append(np.linspace(0,90,100), np.linspace(0,90,100))\n",
      "    g = coord.Galactic(l=l*u.deg, b=b*u.deg, distance=1.*u.kpc)\n",
      "    xyz = do_transform_roll(g.transform_to(coord.ICRS)).xyz\n",
      "\n",
      "    axes[0].plot(xyz[0],xyz[1],linestyle='none',marker='o',label=lbl)\n",
      "    axes[1].plot(xyz[0],xyz[2],linestyle='none',marker='o')\n",
      "    axes[2].plot(xyz[1],xyz[2],linestyle='none',marker='o')\n",
      "\n",
      "axes[0].set_xlabel('$x$')\n",
      "axes[1].set_xlabel('$x$')\n",
      "axes[2].set_xlabel('$y$')\n",
      "axes[0].set_ylabel('$y$')\n",
      "axes[1].set_ylabel('$z$')\n",
      "axes[2].set_ylabel('$z$')\n",
      "    \n",
      "axes[0].legend()\n",
      "axes[0].set_xlim(-10,2)\n",
      "axes[0].set_ylim(-6,6)"
     ],
     "language": "python",
     "metadata": {},
     "outputs": [
      {
       "metadata": {},
       "output_type": "pyout",
       "prompt_number": 126,
       "text": [
        "(-6, 6)"
       ]
      },
      {
       "metadata": {},
       "output_type": "display_data",
       "png": "[encoded data removed]",
       "text": [
        "<matplotlib.figure.Figure at 0x10d91ea10>"
       ]
      }
     ],
     "prompt_number": 126
    },
    {
     "cell_type": "code",
     "collapsed": false,
     "input": [
      "print(roll_angle)"
     ],
     "language": "python",
     "metadata": {},
     "outputs": [
      {
       "output_type": "stream",
       "stream": "stdout",
       "text": [
        "148.598632031\n"
       ]
      }
     ],
     "prompt_number": 127
    },
    {
     "cell_type": "code",
     "collapsed": false,
     "input": [
      "g0 = coord.Galactic(l=0*u.deg, b=0*u.deg, distance=8.3*u.kpc)\n",
      "do_transform_roll(g0.transform_to(coord.ICRS))"
     ],
     "language": "python",
     "metadata": {},
     "outputs": [
      {
       "metadata": {},
       "output_type": "pyout",
       "prompt_number": 134,
       "text": [
        "<CartesianRepresentation x=5.09099871235e-08 kpc, y=-1.77473037719e-05 kpc, z=1.56603990409e-05 kpc>"
       ]
      }
     ],
     "prompt_number": 134
    },
    {
     "cell_type": "markdown",
     "metadata": {},
     "source": [
      "The $l,b=(0,0)$ is slightly offset from the center of the Galactocentric frame, as expected..."
     ]
    },
    {
     "cell_type": "code",
     "collapsed": false,
     "input": [],
     "language": "python",
     "metadata": {},
     "outputs": []
    }
   ],
   "metadata": {}
  }
 ]
}