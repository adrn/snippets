{
 "metadata": {
  "name": "",
  "signature": "sha256:72bafbaca123dd6bd6121d01a219da497065f5d01ab38662edea3c35306d2f79"
 },
 "nbformat": 3,
 "nbformat_minor": 0,
 "worksheets": [
  {
   "cells": [
    {
     "cell_type": "code",
     "collapsed": false,
     "input": [
      "import numpy as np"
     ],
     "language": "python",
     "metadata": {},
     "outputs": [],
     "prompt_number": 3
    },
    {
     "cell_type": "markdown",
     "metadata": {},
     "source": [
      "First generate some data... here we're assuming we have 10000, 128-vectors, and we want to take the sum of the outer products of each vector with it self."
     ]
    },
    {
     "cell_type": "code",
     "collapsed": false,
     "input": [
      "a = np.random.random(size=(128,10000))"
     ],
     "language": "python",
     "metadata": {},
     "outputs": [],
     "prompt_number": 4
    },
    {
     "cell_type": "markdown",
     "metadata": {},
     "source": [
      "---\n",
      "The first and simplest way to try this is with a loop, keeping a running sum:"
     ]
    },
    {
     "cell_type": "code",
     "collapsed": false,
     "input": [
      "def loop():\n",
      "    b = 0.\n",
      "    for vec in a.T:\n",
      "        b += np.outer(vec,vec)\n",
      "    return b"
     ],
     "language": "python",
     "metadata": {},
     "outputs": [],
     "prompt_number": 6
    },
    {
     "cell_type": "code",
     "collapsed": false,
     "input": [
      "%timeit loop()"
     ],
     "language": "python",
     "metadata": {},
     "outputs": [
      {
       "output_type": "stream",
       "stream": "stdout",
       "text": [
        "1 loops, best of 3: 462 ms per loop\n"
       ]
      }
     ],
     "prompt_number": 7
    },
    {
     "cell_type": "markdown",
     "metadata": {},
     "source": [
      "---\n",
      "Next we try using Numpy [array broadcasting](http://docs.scipy.org/doc/numpy/user/basics.broadcasting.html) to do this in a single operation that produces a shape (128,128,10000) array, then sum over the last axis of the array. This takes up a fair amount of space in memory so it ends up being fairly slow:"
     ]
    },
    {
     "cell_type": "code",
     "collapsed": false,
     "input": [
      "def broadcasting():\n",
      "    b = np.sum(a[None]*a[:,None], axis=-1)\n",
      "    return b"
     ],
     "language": "python",
     "metadata": {},
     "outputs": [],
     "prompt_number": 11
    },
    {
     "cell_type": "code",
     "collapsed": false,
     "input": [
      "%timeit broadcasting()"
     ],
     "language": "python",
     "metadata": {},
     "outputs": [
      {
       "output_type": "stream",
       "stream": "stdout",
       "text": [
        "1 loops, best of 3: 1.09 s per loop\n"
       ]
      }
     ],
     "prompt_number": 13
    },
    {
     "cell_type": "markdown",
     "metadata": {},
     "source": [
      "---\n",
      "Lastly, we use Numpy's [einsum](http://docs.scipy.org/doc/numpy/reference/generated/numpy.einsum.html), which allows specifying array operations using Einstein index notation."
     ]
    },
    {
     "cell_type": "code",
     "collapsed": false,
     "input": [
      "def einsum():\n",
      "    b = np.einsum('it,jt->ij', a, a)\n",
      "    return b"
     ],
     "language": "python",
     "metadata": {},
     "outputs": [],
     "prompt_number": 10
    },
    {
     "cell_type": "code",
     "collapsed": false,
     "input": [
      "%timeit einsum()"
     ],
     "language": "python",
     "metadata": {},
     "outputs": [
      {
       "output_type": "stream",
       "stream": "stdout",
       "text": [
        "10 loops, best of 3: 95.5 ms per loop\n"
       ]
      }
     ],
     "prompt_number": 14
    },
    {
     "cell_type": "markdown",
     "metadata": {},
     "source": [
      "---\n",
      "Just a sanity check to make sure they all produce the same resultant array..."
     ]
    },
    {
     "cell_type": "code",
     "collapsed": false,
     "input": [
      "assert np.allclose(einsum(), loop())\n",
      "assert np.allclose(einsum(), broadcasting())"
     ],
     "language": "python",
     "metadata": {},
     "outputs": [],
     "prompt_number": 19
    }
   ],
   "metadata": {}
  }
 ]
}